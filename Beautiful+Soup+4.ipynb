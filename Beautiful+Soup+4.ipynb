{
 "cells": [
  {
   "cell_type": "markdown",
   "metadata": {},
   "source": [
    "<tt>pip install beautifulsoup4 <br>\n",
    "pip install lxml <br>\n",
    "pip install html5lib <br>\n",
    "<br>\n",
    "pip instll beautifulsoup4 --upgrade <br>\n",
    "\n",
    "</tt>"
   ]
  },
  {
   "cell_type": "markdown",
   "metadata": {},
   "source": [
    "The BeautifulSoup object can accept two arguments. The first argument is the actual markup, and the second argument is the parser that you want to use. "
   ]
  },
  {
   "cell_type": "code",
   "execution_count": 1,
   "metadata": {
    "collapsed": true
   },
   "outputs": [],
   "source": [
    "from bs4 import BeautifulSoup\n",
    "soup = BeautifulSoup(\"<html><p>This is <b>invalid HTML</p></html>\", \"html.parser\")"
   ]
  },
  {
   "cell_type": "code",
   "execution_count": 4,
   "metadata": {},
   "outputs": [
    {
     "name": "stdout",
     "output_type": "stream",
     "text": [
      "<html><p>This is <b>invalid HTML</b></p></html>\n",
      "<html><body><p>This is <b>invalid HTML</b></p></body></html>\n",
      "<?xml version=\"1.0\" encoding=\"utf-8\"?>\n",
      "<html><p>This is <b>invalid HTML</b></p></html>\n",
      "<html><head></head><body><p>This is <b>invalid HTML</b></p></body></html>\n"
     ]
    }
   ],
   "source": [
    "soup = BeautifulSoup(\"<html><p>This is <b>invalid HTML</p></html>\", \"html.parser\")\n",
    "print(soup)\n",
    "# <html><p>This is <b>invalid HTML</b></p></html>\n",
    " \n",
    "soup = BeautifulSoup(\"<html><p>This is <b>invalid HTML</p></html>\", \"lxml\")\n",
    "print(soup)\n",
    "# <html><body><p>This is <b>invalid HTML</b></p></body></html>\n",
    " \n",
    "soup = BeautifulSoup(\"<html><p>This is <b>invalid HTML</p></html>\", \"xml\")\n",
    "print(soup)\n",
    "# <?xml version=\"1.0\" encoding=\"utf-8\"?>\n",
    "# <html><p>This is <b>invalid HTML</b></p></html>\n",
    " \n",
    "soup = BeautifulSoup(\"<html><p>This is <b>invalid HTML</p></html>\", \"html5lib\")\n",
    "print(soup)\n",
    "# <html><head></head><body><p>This is <b>invalid HTML</b></p></body></html>\n"
   ]
  },
  {
   "cell_type": "code",
   "execution_count": 7,
   "metadata": {
    "collapsed": true
   },
   "outputs": [],
   "source": [
    "import requests\n",
    "from bs4 import BeautifulSoup\n",
    " \n",
    "req = requests.get('https://tibet.net/')\n",
    "soup = BeautifulSoup(req.text, \"lxml\")"
   ]
  },
  {
   "cell_type": "code",
   "execution_count": 8,
   "metadata": {},
   "outputs": [
    {
     "data": {
      "text/plain": [
       "'Central Tibetan Administration'"
      ]
     },
     "execution_count": 8,
     "metadata": {},
     "output_type": "execute_result"
    }
   ],
   "source": [
    "soup.title\n",
    "# <title>Python (programming language) - tibet.net</title>\n",
    " \n",
    "soup.title.name\n",
    "# 'title'\n",
    " \n",
    "soup.title.string\n",
    "# 'Python (programming language) - tibet.net'"
   ]
  },
  {
   "cell_type": "code",
   "execution_count": null,
   "metadata": {
    "collapsed": true
   },
   "outputs": [],
   "source": []
  }
 ],
 "metadata": {
  "kernelspec": {
   "display_name": "Python 3",
   "language": "python",
   "name": "python3"
  },
  "language_info": {
   "codemirror_mode": {
    "name": "ipython",
    "version": 3
   },
   "file_extension": ".py",
   "mimetype": "text/x-python",
   "name": "python",
   "nbconvert_exporter": "python",
   "pygments_lexer": "ipython3",
   "version": "3.6.2"
  }
 },
 "nbformat": 4,
 "nbformat_minor": 2
}
